{
 "cells": [
  {
   "cell_type": "markdown",
   "id": "eb4ae8c7",
   "metadata": {},
   "source": [
    "### Question 1\n",
    "\n",
    "Inverstigate that the following identity holds:\n",
    "$$(1+2+3+\\dots+n)^{2} = (1^{3} +2^{3}+ 3^{3} + \\dots + n^{3})$$"
   ]
  },
  {
   "cell_type": "code",
   "execution_count": 8,
   "id": "2c030bd9",
   "metadata": {},
   "outputs": [
    {
     "name": "stdout",
     "output_type": "stream",
     "text": [
      "Please enter an integer n: 1100\n",
      "the statement holds for 1100\n"
     ]
    }
   ],
   "source": [
    "n = int(input(\"Please enter an integer n: \"))\n",
    "for i in range(1,n+1):\n",
    "    lhs = 0\n",
    "    for j in range(1,n+1):\n",
    "        lhs+=j\n",
    "    lhs = lhs**2\n",
    "    rhs = 0\n",
    "    for k in range(1, n+1):\n",
    "        rhs+=k**3\n",
    "if lhs == rhs:\n",
    "    print(f\"the statement holds for {n}\")"
   ]
  },
  {
   "cell_type": "markdown",
   "id": "5281c700",
   "metadata": {},
   "source": [
    "### Question 2\n",
    "\n",
    "Consider the following series:\n",
    "$$\\frac{1\\times3}{2\\times2} \\frac{3\\times5}{4\\times4} \\frac{5\\times7}{6\\times6}\\dots$$\n",
    "Investigate that this series tends to $\\frac {\\pi}{2}$.\n",
    "Note:The general term of this series is:$$\\frac{(2n-1)(2n+1)}{2n\\times2n}$$\n",
    "One can define this general series as a function."
   ]
  },
  {
   "cell_type": "code",
   "execution_count": 21,
   "id": "2e2f30bc",
   "metadata": {},
   "outputs": [],
   "source": [
    "def f(n):\n",
    "    result = (2*n-1)*(2*n + 1)/(2*n*2*n)\n",
    "    return result"
   ]
  },
  {
   "cell_type": "code",
   "execution_count": 36,
   "id": "5106aa44",
   "metadata": {},
   "outputs": [
    {
     "name": "stdout",
     "output_type": "stream",
     "text": [
      "Please enter an integer n: 100000\n",
      "0.63662136\n"
     ]
    }
   ],
   "source": [
    "total = 1\n",
    "n = int(input(\"Please enter an integer n: \"))\n",
    "for i in range(1,n+1):\n",
    "    total *= f(i)\n",
    "total = round(total,8)\n",
    "print(total)"
   ]
  },
  {
   "cell_type": "code",
   "execution_count": 33,
   "id": "24fae849",
   "metadata": {},
   "outputs": [
    {
     "data": {
      "text/plain": [
       "0.63661977"
      ]
     },
     "execution_count": 33,
     "metadata": {},
     "output_type": "execute_result"
    }
   ],
   "source": [
    "import math\n",
    "round(2/math.pi,8)"
   ]
  },
  {
   "cell_type": "markdown",
   "id": "984e8407",
   "metadata": {},
   "source": [
    "### Question 3\n",
    "\n",
    "Given non-negative integers $c_1,c_2,\\dots,c_m$, where $c_i\\geq0$ for $i\\geq2$ ,define the function\n",
    "$$f(c_1,c_2,c_3,\\dots,c_m) = c_1 + \\frac {1}{c_2 + \\frac {1}{\\dots+\\frac{1}{c_m}}}$$"
   ]
  },
  {
   "cell_type": "code",
   "execution_count": 93,
   "id": "b807357c",
   "metadata": {},
   "outputs": [],
   "source": [
    "def f(*c):\n",
    "    total = 0\n",
    "    for i in c[:-len(c):-1]:\n",
    "        total = 1/(total + i)\n",
    "    total+=c[0]\n",
    "    return total"
   ]
  },
  {
   "cell_type": "code",
   "execution_count": 105,
   "id": "cc582098",
   "metadata": {},
   "outputs": [
    {
     "data": {
      "text/plain": [
       "1.4285714285714286"
      ]
     },
     "execution_count": 105,
     "metadata": {},
     "output_type": "execute_result"
    }
   ],
   "source": [
    "f(1,2,3)"
   ]
  },
  {
   "cell_type": "code",
   "execution_count": 106,
   "id": "b53077e4",
   "metadata": {},
   "outputs": [
    {
     "data": {
      "text/plain": [
       "1.4285714285714286"
      ]
     },
     "execution_count": 106,
     "metadata": {},
     "output_type": "execute_result"
    }
   ],
   "source": [
    "1+1/(1/3+2)"
   ]
  },
  {
   "cell_type": "code",
   "execution_count": 103,
   "id": "8fbe73ad",
   "metadata": {},
   "outputs": [],
   "source": [
    "l = []\n",
    "for i in range(1,10):\n",
    "    l.append(i)"
   ]
  },
  {
   "cell_type": "code",
   "execution_count": 104,
   "id": "ce45b619",
   "metadata": {},
   "outputs": [
    {
     "data": {
      "text/plain": [
       "1.433127426721945"
      ]
     },
     "execution_count": 104,
     "metadata": {},
     "output_type": "execute_result"
    }
   ],
   "source": [
    "f(*l)"
   ]
  },
  {
   "cell_type": "code",
   "execution_count": 107,
   "id": "161250ae",
   "metadata": {},
   "outputs": [],
   "source": [
    "l = []\n",
    "for i in range(1,1000):\n",
    "    l.append(i)"
   ]
  },
  {
   "cell_type": "code",
   "execution_count": 108,
   "id": "acc6bf1a",
   "metadata": {},
   "outputs": [
    {
     "data": {
      "text/plain": [
       "1.4331274267223117"
      ]
     },
     "execution_count": 108,
     "metadata": {},
     "output_type": "execute_result"
    }
   ],
   "source": [
    "f(*l)"
   ]
  },
  {
   "cell_type": "markdown",
   "id": "f879dc88",
   "metadata": {},
   "source": [
    "### Question 4\n",
    "\n",
    "Investigate that $$\\frac {2}{\\pi} = \\frac{\\sqrt{2}}{2} \\frac{\\sqrt{2+\\sqrt{2}}}{2} \\frac{\\sqrt{2+\\sqrt{2+\\sqrt{2}}}}{2}\\dots$$"
   ]
  },
  {
   "cell_type": "code",
   "execution_count": 151,
   "id": "728f7307",
   "metadata": {},
   "outputs": [
    {
     "name": "stdout",
     "output_type": "stream",
     "text": [
      "Please enter an integer n: 3\n",
      "0.6407288619353766\n"
     ]
    }
   ],
   "source": [
    "import math\n",
    "n = int(input(\"Please enter an integer n: \"))\n",
    "total = 1\n",
    "for i in range(n):\n",
    "    numerator = math.sqrt(2)\n",
    "    for j in range(i):\n",
    "        numerator = math.sqrt(2+numerator)\n",
    "    total*=numerator/2\n",
    "print(total)"
   ]
  },
  {
   "cell_type": "code",
   "execution_count": 152,
   "id": "1690c2f5",
   "metadata": {},
   "outputs": [
    {
     "data": {
      "text/plain": [
       "0.6366197723675814"
      ]
     },
     "execution_count": 152,
     "metadata": {},
     "output_type": "execute_result"
    }
   ],
   "source": [
    "2/math.pi"
   ]
  },
  {
   "cell_type": "markdown",
   "id": "04c449e3",
   "metadata": {},
   "source": [
    "###  Question 5\n",
    "\n",
    "An integer $d_{n}d_{n-1}d_{n-2}\\dots d_{1}$ is palindromic if$$d_{n}d_{n-1}d_{n-2}\\dots d_{1} = d_{1}d_{2}\\dots d_{n-1}d_{n}$$\n",
    "Write a code to ask for a number $d_{n}d_{n-1}d_{n-2}\\dots d_{1}$ and find out if it is palindromic. Enhance the code further so that if the number is not palindromic then the code tests whether $d_{n}d_{n-1}d_{n-2}\\dots d_{1}+d_{1}d_{2}\\dots +d_{n-1}d_{n}$ is(for example, $108+801=909$. Furthermore, write a code to give the number of times it is needed to repeat this procedure until one gets a palindromic number starting with $d_{n}d_{n-1}d_{n-2}\\dots d_{1}$(if it takes more than 150 times, let the function return infinity)"
   ]
  },
  {
   "cell_type": "code",
   "execution_count": 235,
   "id": "ba888b37",
   "metadata": {},
   "outputs": [
    {
     "name": "stdout",
     "output_type": "stream",
     "text": [
      "Please enter a number: 8881\n",
      "produced 89540004598 after 18 repetitions!\n"
     ]
    }
   ],
   "source": [
    "num1 = int(input(\"Please enter a number: \"))\n",
    "palindromic = False\n",
    "count = 0\n",
    "while(palindromic == False):\n",
    "    if num1 == int(str(num1)[::-1]):\n",
    "        print(f\"{num1} is palindromic\")\n",
    "        palindromic = True\n",
    "    num2 = num1+int(str(num1)[::-1])\n",
    "    count+=1\n",
    "    if num2 == int(str(num2)[::-1]):\n",
    "        print(f\"{num1} + {str(num1)[::-1]} is equal to {num2} which  is palindromic\")\n",
    "        palindromic = True\n",
    "    break\n",
    "while(num2 != int(str(num2)[::-1])):\n",
    "    num2 = num2+int(str(num2)[::-1])\n",
    "    count+=1\n",
    "    if count > 150:\n",
    "        print(\"Required infinite repetitions\")\n",
    "\n",
    "if count < 150:\n",
    "    print(f\"produced {num2} after {count} repetitions!\")\n",
    "    "
   ]
  },
  {
   "cell_type": "markdown",
   "id": "83154392",
   "metadata": {},
   "source": [
    "### Question 6\n",
    "\n",
    "A *happy* number is a number such that if one squares its digitse and adds them together, and then takes the result and squares its digits and adds them together again and keeps doing this process, one comes down to the number $1$. Find all the happy ages, i.e., happy num bers up to 100."
   ]
  },
  {
   "cell_type": "code",
   "execution_count": 1,
   "id": "57dcec02",
   "metadata": {},
   "outputs": [
    {
     "name": "stdout",
     "output_type": "stream",
     "text": [
      "[1, 7, 10, 13, 19, 23, 28, 31, 32, 44, 49, 68, 70, 79, 82, 86, 91, 94, 97]\n"
     ]
    }
   ],
   "source": [
    "happy = []\n",
    "for i in range(1,100):\n",
    "    count = 0\n",
    "    num = i\n",
    "    while(num != 1):\n",
    "        temp = 0\n",
    "        for j in str(num):\n",
    "            temp += int(j)**2\n",
    "        num = temp\n",
    "        count+=1\n",
    "        if(count > 100):\n",
    "            break\n",
    "    if num == 1:\n",
    "        happy.append(i)\n",
    "print(happy)"
   ]
  },
  {
   "cell_type": "code",
   "execution_count": 17,
   "id": "a1624f9b",
   "metadata": {},
   "outputs": [
    {
     "name": "stdout",
     "output_type": "stream",
     "text": [
      "145 101\n"
     ]
    }
   ],
   "source": [
    "num = 95\n",
    "count = 0\n",
    "while(num != 1):\n",
    "    temp = 0\n",
    "    for i in str(num):\n",
    "        temp+=int(i)**2\n",
    "    num = temp\n",
    "    count+=1\n",
    "    if(count>100):\n",
    "        break\n",
    "print(num, count)"
   ]
  },
  {
   "cell_type": "markdown",
   "id": "830bbc78",
   "metadata": {},
   "source": [
    "### Question 7\n",
    "\n",
    "Consider a positive integer. Then sort the decimal digits of this number in ascending and descending order. Subtract these two numbers (for example, starting from 5742, we get 7542-2457 = 5085). This is called the Kaprekar routinge. First check that starting with any 4-digit number and repeating the Kaprekar routine, you always reach either 0 or 6174. Then find out, among all the 4-digit numbers, what is the maximum number of iterations needed in order to get 6174"
   ]
  },
  {
   "cell_type": "code",
   "execution_count": 49,
   "id": "ba2be0ea",
   "metadata": {},
   "outputs": [
    {
     "name": "stdout",
     "output_type": "stream",
     "text": [
      "8923\n",
      "7\n"
     ]
    }
   ],
   "source": [
    "maxCount = 0\n",
    "l = []\n",
    "for i in range(1000,10000):\n",
    "    a = i\n",
    "    count = 0\n",
    "    while a != 6174:\n",
    "        temp = int(\"\".join(sorted(str(a), reverse = True))) - int(\"\".join(sorted(str(a))))\n",
    "        a = temp\n",
    "        count+=1\n",
    "        if count>100:\n",
    "            break\n",
    "    if(a ==  6174):\n",
    "            l.append(i)\n",
    "            if count > maxCount:\n",
    "                maxCount = count\n",
    "            \n",
    "print(len(l))\n",
    "print(maxCount)"
   ]
  },
  {
   "cell_type": "code",
   "execution_count": 44,
   "id": "734d1479",
   "metadata": {},
   "outputs": [
    {
     "name": "stdout",
     "output_type": "stream",
     "text": [
      "6174 4\n"
     ]
    }
   ],
   "source": [
    "a = 9997\n",
    "count = 0\n",
    "while a != 6174:\n",
    "        temp = int(\"\".join(sorted(str(a), reverse = True))) - int(\"\".join(sorted(str(a))))\n",
    "        a = temp\n",
    "        count+=1\n",
    "        if count>100:\n",
    "            break\n",
    "print(a, count)"
   ]
  }
 ],
 "metadata": {
  "kernelspec": {
   "display_name": "Python 3 (ipykernel)",
   "language": "python",
   "name": "python3"
  },
  "language_info": {
   "codemirror_mode": {
    "name": "ipython",
    "version": 3
   },
   "file_extension": ".py",
   "mimetype": "text/x-python",
   "name": "python",
   "nbconvert_exporter": "python",
   "pygments_lexer": "ipython3",
   "version": "3.11.3"
  }
 },
 "nbformat": 4,
 "nbformat_minor": 5
}
