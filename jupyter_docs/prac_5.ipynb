{
 "cells": [
  {
   "cell_type": "markdown",
   "id": "eb4ae8c7",
   "metadata": {},
   "source": [
    "### Question 1\n",
    "\n",
    "Inverstigate that the following identity holds:\n",
    "$$(1+2+3+\\dots+n)^{2} = (1^{3} +2^{3}+ 3^{3} + \\dots + n^{3})$$"
   ]
  },
  {
   "cell_type": "code",
   "execution_count": 8,
   "id": "2c030bd9",
   "metadata": {},
   "outputs": [
    {
     "name": "stdout",
     "output_type": "stream",
     "text": [
      "Please enter an integer n: 1100\n",
      "the statement holds for 1100\n"
     ]
    }
   ],
   "source": [
    "n = int(input(\"Please enter an integer n: \"))\n",
    "for i in range(1,n+1):\n",
    "    lhs = 0\n",
    "    for j in range(1,n+1):\n",
    "        lhs+=j\n",
    "    lhs = lhs**2\n",
    "    rhs = 0\n",
    "    for k in range(1, n+1):\n",
    "        rhs+=k**3\n",
    "if lhs == rhs:\n",
    "    print(f\"the statement holds for {n}\")"
   ]
  },
  {
   "cell_type": "markdown",
   "id": "5281c700",
   "metadata": {},
   "source": [
    "### Question 2\n",
    "\n",
    "Consider the following series:\n",
    "$$\\frac{1\\times3}{2\\times2} \\frac{3\\times5}{4\\times4} \\frac{5\\times7}{6\\times6}\\dots$$\n",
    "Investigate that this series tends to $\\frac {\\pi}{2}$.\n",
    "Note:The general term of this series is:$$\\frac{(2n-1)(2n+1)}{2n\\times2n}$$\n",
    "One can define this general series as a function."
   ]
  },
  {
   "cell_type": "code",
   "execution_count": 21,
   "id": "2e2f30bc",
   "metadata": {},
   "outputs": [],
   "source": [
    "def f(n):\n",
    "    result = (2*n-1)*(2*n + 1)/(2*n*2*n)\n",
    "    return result"
   ]
  },
  {
   "cell_type": "code",
   "execution_count": 36,
   "id": "5106aa44",
   "metadata": {},
   "outputs": [
    {
     "name": "stdout",
     "output_type": "stream",
     "text": [
      "Please enter an integer n: 100000\n",
      "0.63662136\n"
     ]
    }
   ],
   "source": [
    "total = 1\n",
    "n = int(input(\"Please enter an integer n: \"))\n",
    "for i in range(1,n+1):\n",
    "    total *= f(i)\n",
    "total = round(total,8)\n",
    "print(total)"
   ]
  },
  {
   "cell_type": "code",
   "execution_count": 33,
   "id": "24fae849",
   "metadata": {},
   "outputs": [
    {
     "data": {
      "text/plain": [
       "0.63661977"
      ]
     },
     "execution_count": 33,
     "metadata": {},
     "output_type": "execute_result"
    }
   ],
   "source": [
    "import math\n",
    "round(2/math.pi,8)"
   ]
  },
  {
   "cell_type": "markdown",
   "id": "984e8407",
   "metadata": {},
   "source": [
    "### Question 3\n",
    "\n",
    "Given non-negative integers $c_1,c_2,\\dots,c_m$, where $c_i\\geq0$ for $i\\geq2$ ,define the function\n",
    "$$f(c_1,c_2,c_3,\\dots,c_m) = c_1 + \\frac {1}{c_2 + \\frac {\\dots"
   ]
  },
  {
   "cell_type": "code",
   "execution_count": null,
   "id": "b807357c",
   "metadata": {},
   "outputs": [],
   "source": []
  }
 ],
 "metadata": {
  "kernelspec": {
   "display_name": "Python 3 (ipykernel)",
   "language": "python",
   "name": "python3"
  },
  "language_info": {
   "codemirror_mode": {
    "name": "ipython",
    "version": 3
   },
   "file_extension": ".py",
   "mimetype": "text/x-python",
   "name": "python",
   "nbconvert_exporter": "python",
   "pygments_lexer": "ipython3",
   "version": "3.11.3"
  }
 },
 "nbformat": 4,
 "nbformat_minor": 5
}
