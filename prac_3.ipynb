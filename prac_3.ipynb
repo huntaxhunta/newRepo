{
 "cells": [
  {
   "cell_type": "markdown",
   "id": "124cd10f",
   "metadata": {},
   "source": [
    "## Question 1"
   ]
  },
  {
   "cell_type": "code",
   "execution_count": 53,
   "id": "8aee7be9",
   "metadata": {},
   "outputs": [
    {
     "name": "stdout",
     "output_type": "stream",
     "text": [
      "792\n",
      "1204\n",
      "2789\n",
      "3201\n",
      "4786\n",
      "5198\n",
      "6783\n",
      "7195\n",
      "8780\n",
      "9192\n",
      "10777\n",
      "11189\n",
      "12774\n",
      "13186\n",
      "14771\n",
      "15183\n",
      "16768\n",
      "17180\n",
      "18765\n",
      "19177\n"
     ]
    }
   ],
   "source": [
    "l = []\n",
    "for n in range(1, 20000):\n",
    "    x = n**2 + (n + 1)**2 \n",
    "    if x % 1997 == 0:\n",
    "        l.append(n)    \n",
    "for n in l:\n",
    "    print(n)"
   ]
  },
  {
   "cell_type": "code",
   "execution_count": 52,
   "id": "8c1192a3",
   "metadata": {},
   "outputs": [],
   "source": [
    "l = []\n",
    "for n in range(1, 20000):\n",
    "    x = n**2 + (n + 1)**2 \n",
    "    if x % 2009 == 0:\n",
    "        l.append(n)    \n",
    "for n in l:\n",
    "    print(n)"
   ]
  },
  {
   "cell_type": "code",
   "execution_count": 57,
   "id": "da50a865",
   "metadata": {},
   "outputs": [],
   "source": [
    "l = []\n",
    "for n in range(1, 20000):\n",
    "    x = n**2 + (n + 1)**2 \n",
    "    if x % 2022 == 0:\n",
    "        l.append(n)    \n",
    "for n in l:\n",
    "    print(n)"
   ]
  },
  {
   "cell_type": "markdown",
   "id": "6eee424c",
   "metadata": {},
   "source": [
    "## Question 2"
   ]
  },
  {
   "cell_type": "code",
   "execution_count": 81,
   "id": "b2fb65f4",
   "metadata": {},
   "outputs": [
    {
     "data": {
      "text/plain": [
       "555974423571664033815804589243553849851258056649719919687842027223208475"
      ]
     },
     "execution_count": 81,
     "metadata": {},
     "output_type": "execute_result"
    }
   ],
   "source": [
    "import math \n",
    "math.comb(1000, 40)"
   ]
  },
  {
   "cell_type": "code",
   "execution_count": 82,
   "id": "028832d7",
   "metadata": {},
   "outputs": [
    {
     "name": "stdout",
     "output_type": "stream",
     "text": [
      "1000 choose 0 is odd\n",
      "0 is a power of 2\n",
      "1000 choose 8 is odd\n",
      "8 is a power of 2\n",
      "1000 choose 32 is odd\n",
      "32 is a power of 2\n",
      "1000 choose 40 is odd\n",
      "40 is not a power of 2\n",
      "1000 choose 64 is odd\n",
      "64 is a power of 2\n",
      "1000 choose 72 is odd\n",
      "72 is not a power of 2\n",
      "1000 choose 96 is odd\n",
      "96 is not a power of 2\n",
      "1000 choose 104 is odd\n",
      "104 is not a power of 2\n",
      "1000 choose 128 is odd\n",
      "128 is a power of 2\n",
      "1000 choose 136 is odd\n",
      "136 is not a power of 2\n",
      "1000 choose 160 is odd\n",
      "160 is not a power of 2\n",
      "1000 choose 168 is odd\n",
      "168 is not a power of 2\n",
      "1000 choose 192 is odd\n",
      "192 is not a power of 2\n",
      "1000 choose 200 is odd\n",
      "200 is not a power of 2\n",
      "1000 choose 224 is odd\n",
      "224 is not a power of 2\n",
      "1000 choose 232 is odd\n",
      "232 is not a power of 2\n",
      "1000 choose 256 is odd\n",
      "256 is a power of 2\n",
      "1000 choose 264 is odd\n",
      "264 is not a power of 2\n",
      "1000 choose 288 is odd\n",
      "288 is not a power of 2\n",
      "1000 choose 296 is odd\n",
      "296 is not a power of 2\n",
      "1000 choose 320 is odd\n",
      "320 is not a power of 2\n",
      "1000 choose 328 is odd\n",
      "328 is not a power of 2\n",
      "1000 choose 352 is odd\n",
      "352 is not a power of 2\n",
      "1000 choose 360 is odd\n",
      "360 is not a power of 2\n",
      "1000 choose 384 is odd\n",
      "384 is not a power of 2\n",
      "1000 choose 392 is odd\n",
      "392 is not a power of 2\n",
      "1000 choose 416 is odd\n",
      "416 is not a power of 2\n",
      "1000 choose 424 is odd\n",
      "424 is not a power of 2\n",
      "1000 choose 448 is odd\n",
      "448 is not a power of 2\n",
      "1000 choose 456 is odd\n",
      "456 is not a power of 2\n",
      "1000 choose 480 is odd\n",
      "480 is not a power of 2\n",
      "1000 choose 488 is odd\n",
      "488 is not a power of 2\n",
      "1000 choose 512 is odd\n",
      "512 is a power of 2\n",
      "1000 choose 520 is odd\n",
      "520 is not a power of 2\n",
      "1000 choose 544 is odd\n",
      "544 is not a power of 2\n",
      "1000 choose 552 is odd\n",
      "552 is not a power of 2\n",
      "1000 choose 576 is odd\n",
      "576 is not a power of 2\n",
      "1000 choose 584 is odd\n",
      "584 is not a power of 2\n",
      "1000 choose 608 is odd\n",
      "608 is not a power of 2\n",
      "1000 choose 616 is odd\n",
      "616 is not a power of 2\n",
      "1000 choose 640 is odd\n",
      "640 is not a power of 2\n",
      "1000 choose 648 is odd\n",
      "648 is not a power of 2\n",
      "1000 choose 672 is odd\n",
      "672 is not a power of 2\n",
      "1000 choose 680 is odd\n",
      "680 is not a power of 2\n",
      "1000 choose 704 is odd\n",
      "704 is not a power of 2\n",
      "1000 choose 712 is odd\n",
      "712 is not a power of 2\n",
      "1000 choose 736 is odd\n",
      "736 is not a power of 2\n",
      "1000 choose 744 is odd\n",
      "744 is not a power of 2\n",
      "1000 choose 768 is odd\n",
      "768 is not a power of 2\n",
      "1000 choose 776 is odd\n",
      "776 is not a power of 2\n",
      "1000 choose 800 is odd\n",
      "800 is not a power of 2\n",
      "1000 choose 808 is odd\n",
      "808 is not a power of 2\n",
      "1000 choose 832 is odd\n",
      "832 is not a power of 2\n",
      "1000 choose 840 is odd\n",
      "840 is not a power of 2\n",
      "1000 choose 864 is odd\n",
      "864 is not a power of 2\n",
      "1000 choose 872 is odd\n",
      "872 is not a power of 2\n",
      "1000 choose 896 is odd\n",
      "896 is not a power of 2\n",
      "1000 choose 904 is odd\n",
      "904 is not a power of 2\n",
      "1000 choose 928 is odd\n",
      "928 is not a power of 2\n",
      "1000 choose 936 is odd\n",
      "936 is not a power of 2\n",
      "1000 choose 960 is odd\n",
      "960 is not a power of 2\n",
      "1000 choose 968 is odd\n",
      "968 is not a power of 2\n",
      "1000 choose 992 is odd\n",
      "992 is not a power of 2\n",
      "1000 choose 1000 is odd\n",
      "1000 is not a power of 2\n"
     ]
    }
   ],
   "source": [
    "for k in range(0, 1001):\n",
    "    if(math.comb(1000,k) % 2 == 1):\n",
    "        print(f\"1000 choose {k} is odd\")\n",
    "        if (k & (k - 1)) == 0:\n",
    "            print(f\"{k} is a power of 2\")\n",
    "        else:\n",
    "            print(f\"{k} is not a power of 2\")"
   ]
  },
  {
   "cell_type": "markdown",
   "id": "e725ae56",
   "metadata": {},
   "source": [
    "## Question 3"
   ]
  },
  {
   "cell_type": "code",
   "execution_count": 103,
   "id": "7fbf1d55",
   "metadata": {},
   "outputs": [
    {
     "name": "stdout",
     "output_type": "stream",
     "text": [
      "2 3 5 7 11 13 17 19 23 29 31 37 41 43 47 53 59 61 67 71 73 79 83 89 97 101 103 107 109 113 127 131 137 139 149 151 157 163 167 173 179 181 191 193 197 199 \n",
      "\n",
      "There are 46 such numbers\n"
     ]
    }
   ],
   "source": [
    "l = []\n",
    "for n in range(2,201):\n",
    "    x = math.factorial(n - 1) + 1\n",
    "    if (x % n) == 0:\n",
    "        l.append(n)\n",
    "for n in l:\n",
    "    print(n, end = \" \")\n",
    "\n",
    "print(\"\\n\")\n",
    "print(f\"There are {len(l)} such numbers\")"
   ]
  },
  {
   "cell_type": "markdown",
   "id": "b8dfe8fc",
   "metadata": {},
   "source": [
    "## Question 4"
   ]
  },
  {
   "cell_type": "code",
   "execution_count": 119,
   "id": "a9cd9725",
   "metadata": {
    "scrolled": false
   },
   "outputs": [
    {
     "name": "stdout",
     "output_type": "stream",
     "text": [
      "4 factorial + 5 factorial is the square of 12.0\n",
      "28 factorial + 29 factorial is the square of 3024342959776787.0\n",
      "29 factorial + 30 factorial is the square of 1.6555803266707742e+16\n",
      "30 factorial + 31 factorial is the square of 9.213083910390763e+16\n",
      "31 factorial + 32 factorial is the square of 5.209161886406214e+17\n",
      "32 factorial + 33 factorial is the square of 2.9910614262742216e+18\n",
      "33 factorial + 34 factorial is the square of 1.7433190088403673e+19\n",
      "34 factorial + 35 factorial is the square of 1.0309403845725392e+20\n",
      "35 factorial + 36 factorial is the square of 6.183255410835681e+20\n",
      "36 factorial + 37 factorial is the square of 3.7597535049543136e+21\n",
      "37 factorial + 38 factorial is the square of 2.316865059855294e+22\n",
      "38 factorial + 39 factorial is the square of 1.4464060529002236e+23\n",
      "39 factorial + 40 factorial is the square of 9.145015939456285e+23\n",
      "40 factorial + 41 factorial is the square of 5.853925340864172e+24\n",
      "41 factorial + 42 factorial is the square of 3.7927017340756492e+25\n",
      "42 factorial + 43 factorial is the square of 2.4863682185293212e+26\n",
      "43 factorial + 44 factorial is the square of 1.6488440914324866e+27\n",
      "44 factorial + 45 factorial is the square of 1.1058051023587686e+28\n",
      "45 factorial + 46 factorial is the square of 7.498162695405835e+28\n",
      "46 factorial + 47 factorial is the square of 5.139317694704038e+29\n",
      "47 factorial + 48 factorial is the square of 3.559850956718166e+30\n",
      "48 factorial + 49 factorial is the square of 2.4913766869480087e+31\n",
      "49 factorial + 50 factorial is the square of 1.7613169807206095e+32\n",
      "50 factorial + 51 factorial is the square of 1.2575900947801296e+33\n",
      "51 factorial + 52 factorial is the square of 9.066934097269665e+33\n",
      "52 factorial + 53 factorial is the square of 6.599652611487191e+34\n",
      "53 factorial + 54 factorial is the square of 4.848902768908667e+35\n",
      "54 factorial + 55 factorial is the square of 3.595448101558068e+36\n",
      "55 factorial + 56 factorial is the square of 2.690157971492607e+37\n",
      "56 factorial + 57 factorial is the square of 2.030712143379314e+38\n",
      "57 factorial + 58 factorial is the square of 1.5463144087758335e+39\n",
      "58 factorial + 59 factorial is the square of 1.1875760181014634e+40\n",
      "59 factorial + 60 factorial is the square of 9.197646563815703e+40\n",
      "60 factorial + 61 factorial is the square of 7.182626267528933e+41\n",
      "61 factorial + 62 factorial is the square of 5.654869890127019e+42\n",
      "62 factorial + 63 factorial is the square of 4.487848358250119e+43\n",
      "63 factorial + 64 factorial is the square of 3.589840393405933e+44\n",
      "64 factorial + 65 factorial is the square of 2.8938793209580034e+45\n",
      "65 factorial + 66 factorial is the square of 2.350728801179595e+46\n",
      "66 factorial + 67 factorial is the square of 1.923940120099015e+47\n",
      "67 factorial + 68 factorial is the square of 1.5863501042818446e+48\n",
      "68 factorial + 69 factorial is the square of 1.3175829688128872e+49\n",
      "69 factorial + 70 factorial is the square of 1.1022565092753153e+50\n",
      "70 factorial + 71 factorial is the square of 9.286857166112938e+50\n",
      "71 factorial + 72 factorial is the square of 7.879399530767173e+51\n",
      "72 factorial + 73 factorial is the square of 6.731530227139718e+52\n",
      "73 factorial + 74 factorial is the square of 5.7901524989714335e+53\n",
      "74 factorial + 75 factorial is the square of 5.013973409936209e+54\n",
      "75 factorial + 76 factorial is the square of 4.37070228050075e+55\n",
      "76 factorial + 77 factorial is the square of 3.8349522386850127e+56\n",
      "77 factorial + 78 factorial is the square of 3.386659751175867e+57\n",
      "78 factorial + 79 factorial is the square of 3.009887862124607e+58\n",
      "79 factorial + 80 factorial is the square of 2.691915215220236e+59\n",
      "80 factorial + 81 factorial is the square of 2.4225390559893213e+60\n",
      "81 factorial + 82 factorial is the square of 2.193539285542959e+61\n",
      "82 factorial + 83 factorial is the square of 1.9982643476504272e+62\n",
      "83 factorial + 84 factorial is the square of 1.831309742851427e+63\n",
      "84 factorial + 85 factorial is the square of 1.6882673116915474e+64\n",
      "85 factorial + 86 factorial is the square of 1.5655288497856175e+65\n",
      "86 factorial + 87 factorial is the square of 1.4601316357654882e+66\n",
      "87 factorial + 88 factorial is the square of 1.3696364464914695e+67\n",
      "88 factorial + 89 factorial is the square of 1.2920308743666252e+68\n",
      "89 factorial + 90 factorial is the square of 1.225652446512742e+69\n",
      "90 factorial + 91 factorial is the square of 1.169127318696822e+70\n",
      "91 factorial + 92 factorial is the square of 1.1213212834602378e+71\n",
      "92 factorial + 93 factorial is the square of 1.0813005692851007e+72\n",
      "93 factorial + 94 factorial is the square of 1.0483004730169492e+73\n",
      "94 factorial + 95 factorial is the square of 1.0217003036069204e+74\n",
      "95 factorial + 96 factorial is the square of 1.0010034532204117e+75\n",
      "96 factorial + 97 factorial is the square of 9.85821675646022e+75\n",
      "97 factorial + 98 factorial is the square of 9.758628596563008e+76\n",
      "98 factorial + 99 factorial is the square of 9.709217501366033e+77\n",
      "99 factorial + 100 factorial is the square of 9.708732028353836e+78\n",
      "100 factorial + 101 factorial is the square of 9.756676675632078e+79\n",
      "101 factorial + 102 factorial is the square of 9.853286859030092e+80\n",
      "102 factorial + 103 factorial is the square of 9.999522680426567e+81\n",
      "103 factorial + 104 factorial is the square of 1.0197080833410359e+83\n",
      "104 factorial + 105 factorial is the square of 1.0448424641951706e+84\n",
      "105 factorial + 106 factorial is the square of 1.0756832857849522e+85\n",
      "106 factorial + 107 factorial is the square of 1.1126468482108261e+86\n",
      "107 factorial + 108 factorial is the square of 1.1562469552322248e+87\n",
      "108 factorial + 109 factorial is the square of 1.2071064581871028e+88\n",
      "109 factorial + 110 factorial is the square of 1.2659716179104363e+89\n",
      "110 factorial + 111 factorial is the square of 1.3337297351808094e+90\n",
      "111 factorial + 112 factorial is the square of 1.4114306156279791e+91\n",
      "112 factorial + 113 factorial is the square of 1.5003125731766778e+92\n",
      "113 factorial + 114 factorial is the square of 1.6018338431181886e+93\n",
      "114 factorial + 115 factorial is the square of 1.7177104793380454e+94\n",
      "115 factorial + 116 factorial is the square of 1.849962059445228e+95\n",
      "116 factorial + 117 factorial is the square of 2.000966828224106e+96\n",
      "117 factorial + 118 factorial is the square of 2.1735282886041252e+97\n",
      "118 factorial + 119 factorial is the square of 2.370955718630179e+98\n",
      "119 factorial + 120 factorial is the square of 2.597161675957275e+99\n",
      "120 factorial + 121 factorial is the square of 2.8567802775866285e+100\n",
      "121 factorial + 122 factorial is the square of 3.1553109491912736e+101\n",
      "122 factorial + 123 factorial is the square of 3.4992934728361473e+102\n",
      "123 factorial + 124 factorial is the square of 3.896521584539429e+103\n",
      "124 factorial + 125 factorial is the square of 4.356304160987887e+104\n",
      "125 factorial + 126 factorial is the square of 4.889785286338181e+105\n",
      "126 factorial + 127 factorial is the square of 5.5103373316762194e+106\n",
      "127 factorial + 128 factorial is the square of 6.234044773508112e+107\n",
      "128 factorial + 129 factorial is the square of 7.080301032239763e+108\n",
      "129 factorial + 130 factorial is the square of 8.072546395930622e+109\n",
      "130 factorial + 131 factorial is the square of 9.239182456132699e+110\n",
      "131 factorial + 132 factorial is the square of 1.0614707871095102e+112\n",
      "132 factorial + 133 factorial is the square of 1.2241132270352468e+113\n",
      "133 factorial + 134 factorial is the square of 1.4169740481824027e+114\n",
      "134 factorial + 135 factorial is the square of 1.6463298985257071e+115\n",
      "135 factorial + 136 factorial is the square of 1.9198821862358453e+116\n",
      "136 factorial + 137 factorial is the square of 2.247104620860924e+117\n",
      "137 factorial + 138 factorial is the square of 2.639680920130734e+118\n",
      "138 factorial + 139 factorial is the square of 3.1120573679910342e+119\n",
      "139 factorial + 140 factorial is the square of 3.682141999935219e+120\n",
      "140 factorial + 141 factorial is the square of 4.372191408838237e+121\n",
      "141 factorial + 142 factorial is the square of 5.209938171877786e+122\n",
      "142 factorial + 143 factorial is the square of 6.230027575026417e+123\n",
      "143 factorial + 144 factorial is the square of 7.475852820856699e+124\n",
      "144 factorial + 145 factorial is the square of 9.001904796096982e+125\n",
      "145 factorial + 146 factorial is the square of 1.0876787809129967e+127\n",
      "146 factorial + 147 factorial is the square of 1.3187099235611097e+128\n",
      "147 factorial + 148 factorial is the square of 1.604243241150609e+129\n",
      "148 factorial + 149 factorial is the square of 1.9581843316729144e+130\n",
      "149 factorial + 150 factorial is the square of 2.3982229218365337e+131\n",
      "150 factorial + 151 factorial is the square of 2.946921039627241e+132\n",
      "151 factorial + 152 factorial is the square of 3.63312963635718e+133\n",
      "152 factorial + 153 factorial is the square of 4.493837184358727e+134\n",
      "153 factorial + 154 factorial is the square of 5.576587713735262e+135\n",
      "154 factorial + 155 factorial is the square of 6.942651220968735e+136\n",
      "155 factorial + 156 factorial is the square of 8.671190434592892e+137\n",
      "156 factorial + 157 factorial is the square of 1.086475007698151e+139\n",
      "157 factorial + 158 factorial is the square of 1.3656505549693153e+140\n",
      "158 factorial + 159 factorial is the square of 1.7219857697408465e+141\n",
      "159 factorial + 160 factorial is the square of 2.1781163097311886e+142\n",
      "160 factorial + 161 factorial is the square of 2.7636664578612123e+143\n",
      "161 factorial + 162 factorial is the square of 3.517506110575214e+144\n",
      "162 factorial + 163 factorial is the square of 4.4907666591938364e+145\n",
      "163 factorial + 164 factorial is the square of 5.750880455460494e+146\n",
      "164 factorial + 165 factorial is the square of 7.387004028689122e+147\n",
      "165 factorial + 166 factorial is the square of 9.517316224881757e+148\n",
      "166 factorial + 167 factorial is the square of 1.2298862575745684e+150\n",
      "167 factorial + 168 factorial is the square of 1.5940865441129124e+151\n",
      "168 factorial + 169 factorial is the square of 2.072276228318618e+152\n",
      "169 factorial + 170 factorial is the square of 2.701870887995584e+153\n"
     ]
    },
    {
     "ename": "OverflowError",
     "evalue": "int too large to convert to float",
     "output_type": "error",
     "traceback": [
      "\u001b[1;31m---------------------------------------------------------------------------\u001b[0m",
      "\u001b[1;31mOverflowError\u001b[0m                             Traceback (most recent call last)",
      "Cell \u001b[1;32mIn[119], line 3\u001b[0m\n\u001b[0;32m      1\u001b[0m \u001b[38;5;28;01mfor\u001b[39;00m n \u001b[38;5;129;01min\u001b[39;00m \u001b[38;5;28mrange\u001b[39m(\u001b[38;5;241m1001\u001b[39m):\n\u001b[0;32m      2\u001b[0m     x \u001b[38;5;241m=\u001b[39m math\u001b[38;5;241m.\u001b[39mfactorial(n) \u001b[38;5;241m+\u001b[39m math\u001b[38;5;241m.\u001b[39mfactorial(n \u001b[38;5;241m+\u001b[39m \u001b[38;5;241m1\u001b[39m)\n\u001b[1;32m----> 3\u001b[0m     temp \u001b[38;5;241m=\u001b[39m math\u001b[38;5;241m.\u001b[39msqrt(x)\n\u001b[0;32m      4\u001b[0m     \u001b[38;5;28;01mif\u001b[39;00m (temp \u001b[38;5;241m-\u001b[39m math\u001b[38;5;241m.\u001b[39mfloor(temp)) \u001b[38;5;241m<\u001b[39m \u001b[38;5;241m0.000000000000001\u001b[39m:\n\u001b[0;32m      5\u001b[0m         \u001b[38;5;28mprint\u001b[39m(\u001b[38;5;124mf\u001b[39m\u001b[38;5;124m\"\u001b[39m\u001b[38;5;132;01m{\u001b[39;00mn\u001b[38;5;132;01m}\u001b[39;00m\u001b[38;5;124m factorial + \u001b[39m\u001b[38;5;132;01m{\u001b[39;00mn\u001b[38;5;241m+\u001b[39m\u001b[38;5;241m1\u001b[39m\u001b[38;5;132;01m}\u001b[39;00m\u001b[38;5;124m factorial is the square of \u001b[39m\u001b[38;5;132;01m{\u001b[39;00mtemp\u001b[38;5;132;01m}\u001b[39;00m\u001b[38;5;124m\"\u001b[39m)\n",
      "\u001b[1;31mOverflowError\u001b[0m: int too large to convert to float"
     ]
    }
   ],
   "source": [
    "for n in range(1001):\n",
    "    x = math.factorial(n) + math.factorial(n + 1)\n",
    "    temp = math.sqrt(x)\n",
    "    \n",
    "    if (temp - math.floor(temp)) < 0.000000000000001:\n",
    "        print(f\"{n} factorial + {n+1} factorial is the square of {temp}\")"
   ]
  },
  {
   "cell_type": "code",
   "execution_count": 141,
   "id": "98ccecc4",
   "metadata": {},
   "outputs": [
    {
     "data": {
      "text/plain": [
       "0.0"
      ]
     },
     "execution_count": 141,
     "metadata": {},
     "output_type": "execute_result"
    }
   ],
   "source": [
    "a = math.sqrt(math.factorial(169) + math.factorial(170))\n",
    "a - math.floor(a)"
   ]
  },
  {
   "cell_type": "markdown",
   "id": "223d38aa",
   "metadata": {},
   "source": [
    "## Question 5"
   ]
  },
  {
   "cell_type": "code",
   "execution_count": 154,
   "id": "ad55a2d0",
   "metadata": {},
   "outputs": [
    {
     "name": "stdout",
     "output_type": "stream",
     "text": [
      "2 fit the formula\n",
      "14 fit the formula\n"
     ]
    }
   ],
   "source": [
    "for m in range(1,501):\n",
    "    a = (pow((m+3),3)+1)/(3*m)\n",
    "    if (a - math.floor(a)) < 0.0000000000001:\n",
    "        print(f\"{m} fit the formula\")\n",
    "    if (a % 2) == 0:\n",
    "        print(f\"Found A: {a} to be even\")"
   ]
  },
  {
   "cell_type": "markdown",
   "id": "86b1b5ae",
   "metadata": {},
   "source": [
    "## Question 6"
   ]
  },
  {
   "cell_type": "code",
   "execution_count": 146,
   "id": "ac86bb0e",
   "metadata": {},
   "outputs": [
    {
     "name": "stdout",
     "output_type": "stream",
     "text": [
      "24502500\n"
     ]
    }
   ],
   "source": [
    "total = 0\n",
    "for n in range(100):\n",
    "    total+=pow(n,3)\n",
    "print(total)"
   ]
  },
  {
   "cell_type": "code",
   "execution_count": 147,
   "id": "e2d81013",
   "metadata": {},
   "outputs": [
    {
     "name": "stdout",
     "output_type": "stream",
     "text": [
      "3.7182818284590455\n"
     ]
    }
   ],
   "source": [
    "total = 1\n",
    "for n in range(100):\n",
    "    total+=(1/math.factorial(n))\n",
    "print(total)"
   ]
  },
  {
   "cell_type": "markdown",
   "id": "8453bb27",
   "metadata": {},
   "source": [
    "## Question 7"
   ]
  },
  {
   "cell_type": "code",
   "execution_count": 169,
   "id": "1b3a0295",
   "metadata": {},
   "outputs": [
    {
     "name": "stdout",
     "output_type": "stream",
     "text": [
      "2 fit the formula\n",
      "3 fit the formula\n"
     ]
    }
   ],
   "source": [
    "for n in range(1,1001):\n",
    "    total = 0\n",
    "    for m in range(1,n+1):\n",
    "        total+=(m+2)**n\n",
    "    if total == (n+3) ** n:\n",
    "        print(f\"{n} fit the formula\")"
   ]
  },
  {
   "cell_type": "markdown",
   "id": "4e041373",
   "metadata": {},
   "source": [
    "## Question 8"
   ]
  },
  {
   "cell_type": "code",
   "execution_count": 211,
   "id": "21d48b76",
   "metadata": {},
   "outputs": [
    {
     "ename": "KeyboardInterrupt",
     "evalue": "",
     "output_type": "error",
     "traceback": [
      "\u001b[1;31m---------------------------------------------------------------------------\u001b[0m",
      "\u001b[1;31mKeyboardInterrupt\u001b[0m                         Traceback (most recent call last)",
      "Cell \u001b[1;32mIn[211], line 9\u001b[0m\n\u001b[0;32m      7\u001b[0m d6 \u001b[38;5;241m=\u001b[39m n \u001b[38;5;241m/\u001b[39m\u001b[38;5;241m/\u001b[39m \u001b[38;5;241m10\u001b[39m\n\u001b[0;32m      8\u001b[0m d7 \u001b[38;5;241m=\u001b[39m n \u001b[38;5;241m%\u001b[39m \u001b[38;5;241m10\u001b[39m\n\u001b[1;32m----> 9\u001b[0m m \u001b[38;5;241m=\u001b[39m math\u001b[38;5;241m.\u001b[39mfactorial(d1) \u001b[38;5;241m+\u001b[39m math\u001b[38;5;241m.\u001b[39mfactorial(d2) \u001b[38;5;241m+\u001b[39m math\u001b[38;5;241m.\u001b[39mfactorial(d3) \u001b[38;5;241m+\u001b[39m math\u001b[38;5;241m.\u001b[39mfactorial(d4) \u001b[38;5;241m+\u001b[39m math\u001b[38;5;241m.\u001b[39mfactorial(d5) \u001b[38;5;241m+\u001b[39m math\u001b[38;5;241m.\u001b[39mfactorial(d6) \u001b[38;5;241m+\u001b[39m math\u001b[38;5;241m.\u001b[39mfactorial(d7) \n\u001b[0;32m     10\u001b[0m \u001b[38;5;28;01mif\u001b[39;00m(m \u001b[38;5;241m==\u001b[39m n):\n\u001b[0;32m     11\u001b[0m     \u001b[38;5;28mprint\u001b[39m(\u001b[38;5;124mf\u001b[39m\u001b[38;5;124m\"\u001b[39m\u001b[38;5;132;01m{\u001b[39;00mn\u001b[38;5;132;01m}\u001b[39;00m\u001b[38;5;124m is euqla to d1! + d2! + d3! + ... + dk!\u001b[39m\u001b[38;5;124m\"\u001b[39m)\n",
      "\u001b[1;31mKeyboardInterrupt\u001b[0m: "
     ]
    }
   ],
   "source": [
    "for n in range(1000000):\n",
    "    d1 = n // 1000000\n",
    "    d2 = n // 100000\n",
    "    d3 = n // 10000\n",
    "    d4 = n // 1000\n",
    "    d5 = n // 100\n",
    "    d6 = n // 10\n",
    "    d7 = n % 10\n",
    "    m = math.factorial(d1) + math.factorial(d2) + math.factorial(d3) + math.factorial(d4) + math.factorial(d5) + math.factorial(d6) + math.factorial(d7) \n",
    "    if(m == n):\n",
    "        print(f\"{n} is euqla to d1! + d2! + d3! + ... + dk!\")"
   ]
  },
  {
   "cell_type": "markdown",
   "id": "57c3137e",
   "metadata": {},
   "source": [
    "## Question 9"
   ]
  },
  {
   "cell_type": "code",
   "execution_count": 180,
   "id": "48e79cd1",
   "metadata": {},
   "outputs": [
    {
     "name": "stdout",
     "output_type": "stream",
     "text": [
      "23\n"
     ]
    }
   ],
   "source": [
    "l = []\n",
    "for n in range(10,100):\n",
    "    d1 = n // 10\n",
    "    d2 = n % 10\n",
    "    if (n % (d1 + d2)) == 0:\n",
    "        l.append(n)\n",
    "print(len(l))"
   ]
  },
  {
   "cell_type": "code",
   "execution_count": 181,
   "id": "ccfefb9e",
   "metadata": {},
   "outputs": [
    {
     "name": "stdout",
     "output_type": "stream",
     "text": [
      "1124\n"
     ]
    }
   ],
   "source": [
    "l = []\n",
    "for n in range(10000,100000):\n",
    "    d1 = n // 10000\n",
    "    d2 = n // 1000\n",
    "    d3 = n // 100\n",
    "    d4 = n // 10\n",
    "    d5 = n % 10\n",
    "    if (n % (d1 + d2 + d3 + d4 + d5)) == 0:\n",
    "        l.append(n)\n",
    "print(len(l))"
   ]
  },
  {
   "cell_type": "markdown",
   "id": "c45d7f07",
   "metadata": {},
   "source": [
    "## Question 10"
   ]
  },
  {
   "cell_type": "code",
   "execution_count": 219,
   "id": "e0821f20",
   "metadata": {},
   "outputs": [],
   "source": [
    "prime = [2]\n",
    "for n in range(3,100000):\n",
    "    counter = 0\n",
    "    for m in range(2,math.ceil(math.sqrt(n))+1):\n",
    "        if (n % m) == 0:\n",
    "            counter = counter + 1\n",
    "    if counter == 0:\n",
    "        prime.append(n) "
   ]
  },
  {
   "cell_type": "code",
   "execution_count": 229,
   "id": "5148093f",
   "metadata": {},
   "outputs": [
    {
     "data": {
      "text/plain": [
       "2"
      ]
     },
     "execution_count": 229,
     "metadata": {},
     "output_type": "execute_result"
    }
   ],
   "source": [
    "prime[0]"
   ]
  },
  {
   "cell_type": "code",
   "execution_count": 242,
   "id": "76ff0a3f",
   "metadata": {},
   "outputs": [
    {
     "name": "stdout",
     "output_type": "stream",
     "text": [
      "1.0245638646895836\n"
     ]
    }
   ],
   "source": [
    "t = 0\n",
    "for i in prime[1:3]:\n",
    "    t+=i**(-0.5)\n",
    "print(t)"
   ]
  },
  {
   "cell_type": "code",
   "execution_count": 234,
   "id": "16ab7feb",
   "metadata": {},
   "outputs": [
    {
     "data": {
      "text/plain": [
       "[7, 11, 13]"
      ]
     },
     "execution_count": 234,
     "metadata": {},
     "output_type": "execute_result"
    }
   ],
   "source": [
    "for i in prime[3:6]:\n",
    "    t+=i**(-0.5)\n",
    "print(t)"
   ]
  },
  {
   "cell_type": "code",
   "execution_count": 243,
   "id": "820e1401",
   "metadata": {},
   "outputs": [
    {
     "name": "stdout",
     "output_type": "stream",
     "text": [
      "1.890724975830605\n"
     ]
    }
   ],
   "source": [
    "for i in prime[6:10]:\n",
    "    t+=i**(-0.5)\n",
    "print(t)"
   ]
  },
  {
   "cell_type": "code",
   "execution_count": 244,
   "id": "d3f7e405",
   "metadata": {},
   "outputs": [
    {
     "name": "stdout",
     "output_type": "stream",
     "text": [
      "2.6892665888818423\n"
     ]
    }
   ],
   "source": [
    "for i in prime[10:15]:\n",
    "    t+=i**(-0.5)\n",
    "print(t)"
   ]
  },
  {
   "cell_type": "code",
   "execution_count": 245,
   "id": "d3c2531a",
   "metadata": {},
   "outputs": [
    {
     "name": "stdout",
     "output_type": "stream",
     "text": [
      "3.4427417011160726\n"
     ]
    }
   ],
   "source": [
    "for i in prime[15:21]:\n",
    "    t+=i**(-0.5)\n",
    "print(t)"
   ]
  },
  {
   "cell_type": "code",
   "execution_count": 246,
   "id": "ac02cc24",
   "metadata": {},
   "outputs": [
    {
     "name": "stdout",
     "output_type": "stream",
     "text": [
      "4.167259451454358\n"
     ]
    }
   ],
   "source": [
    "for i in prime[21:28]:\n",
    "    t+=i**(-0.5)\n",
    "print(t)"
   ]
  },
  {
   "cell_type": "code",
   "execution_count": 262,
   "id": "d06a3e1e",
   "metadata": {},
   "outputs": [
    {
     "data": {
      "text/plain": [
       "[1,\n",
       " 3,\n",
       " 6,\n",
       " 10,\n",
       " 15,\n",
       " 21,\n",
       " 28,\n",
       " 36,\n",
       " 45,\n",
       " 55,\n",
       " 66,\n",
       " 78,\n",
       " 91,\n",
       " 105,\n",
       " 120,\n",
       " 136,\n",
       " 153,\n",
       " 171,\n",
       " 190,\n",
       " 210,\n",
       " 231,\n",
       " 253,\n",
       " 276,\n",
       " 300,\n",
       " 325,\n",
       " 351,\n",
       " 378,\n",
       " 406,\n",
       " 435,\n",
       " 465,\n",
       " 496,\n",
       " 528,\n",
       " 561,\n",
       " 595,\n",
       " 630,\n",
       " 666,\n",
       " 703,\n",
       " 741,\n",
       " 780,\n",
       " 820,\n",
       " 861,\n",
       " 903,\n",
       " 946,\n",
       " 990,\n",
       " 1035,\n",
       " 1081,\n",
       " 1128,\n",
       " 1176,\n",
       " 1225]"
      ]
     },
     "execution_count": 262,
     "metadata": {},
     "output_type": "execute_result"
    }
   ],
   "source": [
    "total = prime[0]**(-0.5)\n",
    "for n in [sum(range(1, i+1)) for i in range(1, 50)]:\n",
    "    "
   ]
  },
  {
   "cell_type": "code",
   "execution_count": null,
   "id": "d731b234",
   "metadata": {},
   "outputs": [],
   "source": []
  }
 ],
 "metadata": {
  "kernelspec": {
   "display_name": "Python 3 (ipykernel)",
   "language": "python",
   "name": "python3"
  },
  "language_info": {
   "codemirror_mode": {
    "name": "ipython",
    "version": 3
   },
   "file_extension": ".py",
   "mimetype": "text/x-python",
   "name": "python",
   "nbconvert_exporter": "python",
   "pygments_lexer": "ipython3",
   "version": "3.11.3"
  }
 },
 "nbformat": 4,
 "nbformat_minor": 5
}
